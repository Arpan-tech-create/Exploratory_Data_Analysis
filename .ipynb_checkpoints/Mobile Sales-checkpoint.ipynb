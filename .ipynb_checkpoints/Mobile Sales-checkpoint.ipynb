{
 "cells": [
  {
   "cell_type": "code",
   "execution_count": 2,
   "metadata": {},
   "outputs": [],
   "source": [
    "import pandas as pd\n",
    "import matplotlib.pyplot as plt\n",
    "import seaborn as sns\n"
   ]
  },
  {
   "cell_type": "code",
   "execution_count": 3,
   "metadata": {},
   "outputs": [],
   "source": [
    "read=pd.read_csv('Flipkart Mobile - 2.csv')\n"
   ]
  },
  {
   "cell_type": "code",
   "execution_count": 4,
   "metadata": {},
   "outputs": [
    {
     "data": {
      "text/html": [
       "<div>\n",
       "<style scoped>\n",
       "    .dataframe tbody tr th:only-of-type {\n",
       "        vertical-align: middle;\n",
       "    }\n",
       "\n",
       "    .dataframe tbody tr th {\n",
       "        vertical-align: top;\n",
       "    }\n",
       "\n",
       "    .dataframe thead th {\n",
       "        text-align: right;\n",
       "    }\n",
       "</style>\n",
       "<table border=\"1\" class=\"dataframe\">\n",
       "  <thead>\n",
       "    <tr style=\"text-align: right;\">\n",
       "      <th></th>\n",
       "      <th>brand</th>\n",
       "      <th>model</th>\n",
       "      <th>base_color</th>\n",
       "      <th>processor</th>\n",
       "      <th>screen_size</th>\n",
       "      <th>ROM</th>\n",
       "      <th>RAM</th>\n",
       "      <th>display_size</th>\n",
       "      <th>num_rear_camera</th>\n",
       "      <th>num_front_camera</th>\n",
       "      <th>battery_capacity</th>\n",
       "      <th>ratings</th>\n",
       "      <th>num_of_ratings</th>\n",
       "      <th>sales_price</th>\n",
       "      <th>discount_percent</th>\n",
       "      <th>sales</th>\n",
       "    </tr>\n",
       "  </thead>\n",
       "  <tbody>\n",
       "    <tr>\n",
       "      <th>0</th>\n",
       "      <td>Apple</td>\n",
       "      <td>iPhone SE</td>\n",
       "      <td>Black</td>\n",
       "      <td>Water</td>\n",
       "      <td>Very Small</td>\n",
       "      <td>64</td>\n",
       "      <td>2</td>\n",
       "      <td>4.7</td>\n",
       "      <td>1</td>\n",
       "      <td>1</td>\n",
       "      <td>1800</td>\n",
       "      <td>4.5</td>\n",
       "      <td>38645</td>\n",
       "      <td>32999</td>\n",
       "      <td>0.17</td>\n",
       "      <td>127.52</td>\n",
       "    </tr>\n",
       "    <tr>\n",
       "      <th>1</th>\n",
       "      <td>Apple</td>\n",
       "      <td>iPhone 12 Mini</td>\n",
       "      <td>Red</td>\n",
       "      <td>Ceramic</td>\n",
       "      <td>Small</td>\n",
       "      <td>64</td>\n",
       "      <td>4</td>\n",
       "      <td>5.4</td>\n",
       "      <td>2</td>\n",
       "      <td>1</td>\n",
       "      <td>2815</td>\n",
       "      <td>4.5</td>\n",
       "      <td>244</td>\n",
       "      <td>57149</td>\n",
       "      <td>0.04</td>\n",
       "      <td>1.39</td>\n",
       "    </tr>\n",
       "    <tr>\n",
       "      <th>2</th>\n",
       "      <td>Apple</td>\n",
       "      <td>iPhone SE</td>\n",
       "      <td>Red</td>\n",
       "      <td>Water</td>\n",
       "      <td>Very Small</td>\n",
       "      <td>64</td>\n",
       "      <td>2</td>\n",
       "      <td>4.7</td>\n",
       "      <td>1</td>\n",
       "      <td>1</td>\n",
       "      <td>1800</td>\n",
       "      <td>4.5</td>\n",
       "      <td>38645</td>\n",
       "      <td>32999</td>\n",
       "      <td>0.17</td>\n",
       "      <td>127.52</td>\n",
       "    </tr>\n",
       "    <tr>\n",
       "      <th>3</th>\n",
       "      <td>Apple</td>\n",
       "      <td>iPhone XR</td>\n",
       "      <td>Others</td>\n",
       "      <td>iOS</td>\n",
       "      <td>Medium</td>\n",
       "      <td>64</td>\n",
       "      <td>3</td>\n",
       "      <td>6.1</td>\n",
       "      <td>1</td>\n",
       "      <td>1</td>\n",
       "      <td>2942</td>\n",
       "      <td>4.6</td>\n",
       "      <td>5366</td>\n",
       "      <td>42999</td>\n",
       "      <td>0.10</td>\n",
       "      <td>23.07</td>\n",
       "    </tr>\n",
       "    <tr>\n",
       "      <th>4</th>\n",
       "      <td>Apple</td>\n",
       "      <td>iPhone 12</td>\n",
       "      <td>Red</td>\n",
       "      <td>Ceramic</td>\n",
       "      <td>Medium</td>\n",
       "      <td>128</td>\n",
       "      <td>4</td>\n",
       "      <td>6.1</td>\n",
       "      <td>2</td>\n",
       "      <td>1</td>\n",
       "      <td>2815</td>\n",
       "      <td>4.6</td>\n",
       "      <td>745</td>\n",
       "      <td>69149</td>\n",
       "      <td>0.02</td>\n",
       "      <td>5.15</td>\n",
       "    </tr>\n",
       "    <tr>\n",
       "      <th>...</th>\n",
       "      <td>...</td>\n",
       "      <td>...</td>\n",
       "      <td>...</td>\n",
       "      <td>...</td>\n",
       "      <td>...</td>\n",
       "      <td>...</td>\n",
       "      <td>...</td>\n",
       "      <td>...</td>\n",
       "      <td>...</td>\n",
       "      <td>...</td>\n",
       "      <td>...</td>\n",
       "      <td>...</td>\n",
       "      <td>...</td>\n",
       "      <td>...</td>\n",
       "      <td>...</td>\n",
       "      <td>...</td>\n",
       "    </tr>\n",
       "    <tr>\n",
       "      <th>425</th>\n",
       "      <td>Xiaomi</td>\n",
       "      <td>Redmi 6 Pro</td>\n",
       "      <td>Black</td>\n",
       "      <td>Qualcomm</td>\n",
       "      <td>Small</td>\n",
       "      <td>32</td>\n",
       "      <td>3</td>\n",
       "      <td>5.8</td>\n",
       "      <td>2</td>\n",
       "      <td>1</td>\n",
       "      <td>4000</td>\n",
       "      <td>4.3</td>\n",
       "      <td>1870</td>\n",
       "      <td>7999</td>\n",
       "      <td>0.30</td>\n",
       "      <td>1.50</td>\n",
       "    </tr>\n",
       "    <tr>\n",
       "      <th>426</th>\n",
       "      <td>Xiaomi</td>\n",
       "      <td>Redmi 6 Pro</td>\n",
       "      <td>Red</td>\n",
       "      <td>Qualcomm</td>\n",
       "      <td>Small</td>\n",
       "      <td>64</td>\n",
       "      <td>4</td>\n",
       "      <td>5.8</td>\n",
       "      <td>2</td>\n",
       "      <td>1</td>\n",
       "      <td>4000</td>\n",
       "      <td>4.3</td>\n",
       "      <td>1783</td>\n",
       "      <td>9699</td>\n",
       "      <td>0.28</td>\n",
       "      <td>1.73</td>\n",
       "    </tr>\n",
       "    <tr>\n",
       "      <th>427</th>\n",
       "      <td>Xiaomi</td>\n",
       "      <td>Mi 11 Lite</td>\n",
       "      <td>Others</td>\n",
       "      <td>Qualcomm</td>\n",
       "      <td>Large</td>\n",
       "      <td>128</td>\n",
       "      <td>6</td>\n",
       "      <td>6.5</td>\n",
       "      <td>3</td>\n",
       "      <td>1</td>\n",
       "      <td>4250</td>\n",
       "      <td>4.2</td>\n",
       "      <td>1554</td>\n",
       "      <td>21999</td>\n",
       "      <td>0.12</td>\n",
       "      <td>3.42</td>\n",
       "    </tr>\n",
       "    <tr>\n",
       "      <th>428</th>\n",
       "      <td>Xiaomi</td>\n",
       "      <td>Redmi 8A Dual</td>\n",
       "      <td>Blue</td>\n",
       "      <td>Qualcomm</td>\n",
       "      <td>Medium</td>\n",
       "      <td>32</td>\n",
       "      <td>3</td>\n",
       "      <td>6.2</td>\n",
       "      <td>2</td>\n",
       "      <td>1</td>\n",
       "      <td>5000</td>\n",
       "      <td>4.2</td>\n",
       "      <td>8161</td>\n",
       "      <td>8299</td>\n",
       "      <td>0.07</td>\n",
       "      <td>6.77</td>\n",
       "    </tr>\n",
       "    <tr>\n",
       "      <th>429</th>\n",
       "      <td>Xiaomi</td>\n",
       "      <td>Redmi 6 Pro</td>\n",
       "      <td>Blue</td>\n",
       "      <td>Qualcomm</td>\n",
       "      <td>Small</td>\n",
       "      <td>32</td>\n",
       "      <td>3</td>\n",
       "      <td>5.8</td>\n",
       "      <td>2</td>\n",
       "      <td>1</td>\n",
       "      <td>4000</td>\n",
       "      <td>4.3</td>\n",
       "      <td>1870</td>\n",
       "      <td>8190</td>\n",
       "      <td>0.36</td>\n",
       "      <td>1.53</td>\n",
       "    </tr>\n",
       "  </tbody>\n",
       "</table>\n",
       "<p>430 rows × 16 columns</p>\n",
       "</div>"
      ],
      "text/plain": [
       "      brand           model base_color processor screen_size  ROM  RAM  \\\n",
       "0     Apple       iPhone SE      Black     Water  Very Small   64    2   \n",
       "1     Apple  iPhone 12 Mini        Red   Ceramic       Small   64    4   \n",
       "2     Apple       iPhone SE        Red     Water  Very Small   64    2   \n",
       "3     Apple       iPhone XR     Others       iOS      Medium   64    3   \n",
       "4     Apple       iPhone 12        Red   Ceramic      Medium  128    4   \n",
       "..      ...             ...        ...       ...         ...  ...  ...   \n",
       "425  Xiaomi     Redmi 6 Pro      Black  Qualcomm       Small   32    3   \n",
       "426  Xiaomi     Redmi 6 Pro        Red  Qualcomm       Small   64    4   \n",
       "427  Xiaomi      Mi 11 Lite     Others  Qualcomm       Large  128    6   \n",
       "428  Xiaomi   Redmi 8A Dual       Blue  Qualcomm      Medium   32    3   \n",
       "429  Xiaomi     Redmi 6 Pro       Blue  Qualcomm       Small   32    3   \n",
       "\n",
       "     display_size  num_rear_camera  num_front_camera  battery_capacity  \\\n",
       "0             4.7                1                 1              1800   \n",
       "1             5.4                2                 1              2815   \n",
       "2             4.7                1                 1              1800   \n",
       "3             6.1                1                 1              2942   \n",
       "4             6.1                2                 1              2815   \n",
       "..            ...              ...               ...               ...   \n",
       "425           5.8                2                 1              4000   \n",
       "426           5.8                2                 1              4000   \n",
       "427           6.5                3                 1              4250   \n",
       "428           6.2                2                 1              5000   \n",
       "429           5.8                2                 1              4000   \n",
       "\n",
       "     ratings  num_of_ratings  sales_price  discount_percent   sales  \n",
       "0        4.5           38645        32999              0.17  127.52  \n",
       "1        4.5             244        57149              0.04    1.39  \n",
       "2        4.5           38645        32999              0.17  127.52  \n",
       "3        4.6            5366        42999              0.10   23.07  \n",
       "4        4.6             745        69149              0.02    5.15  \n",
       "..       ...             ...          ...               ...     ...  \n",
       "425      4.3            1870         7999              0.30    1.50  \n",
       "426      4.3            1783         9699              0.28    1.73  \n",
       "427      4.2            1554        21999              0.12    3.42  \n",
       "428      4.2            8161         8299              0.07    6.77  \n",
       "429      4.3            1870         8190              0.36    1.53  \n",
       "\n",
       "[430 rows x 16 columns]"
      ]
     },
     "execution_count": 4,
     "metadata": {},
     "output_type": "execute_result"
    }
   ],
   "source": [
    "read"
   ]
  },
  {
   "cell_type": "markdown",
   "metadata": {},
   "source": [
    "i have to findout that, which brand has done max sales ?"
   ]
  },
  {
   "cell_type": "code",
   "execution_count": 6,
   "metadata": {},
   "outputs": [
    {
     "data": {
      "text/plain": [
       "Realme     22\n",
       "Xiaomi     19\n",
       "Poco       15\n",
       "Samsung     8\n",
       "Apple       4\n",
       "Name: brand, dtype: int64"
      ]
     },
     "execution_count": 6,
     "metadata": {},
     "output_type": "execute_result"
    }
   ],
   "source": [
    "new_sales=read.brand[read.sales>50]\n",
    "new_sales.value_counts()"
   ]
  },
  {
   "cell_type": "code",
   "execution_count": 8,
   "metadata": {},
   "outputs": [
    {
     "data": {
      "image/jpeg": "[encoded data removed]",
      "text/plain": [
       "<IPython.core.display.Image object>"
      ]
     },
     "execution_count": 8,
     "metadata": {},
     "output_type": "execute_result"
    }
   ],
   "source": [
    "from IPython.display import Image\n",
    "Image(filename='RealMe.jpg')"
   ]
  },
  {
   "cell_type": "markdown",
   "metadata": {},
   "source": [
    "so, Yes  it's Realme"
   ]
  },
  {
   "cell_type": "code",
   "execution_count": 10,
   "metadata": {},
   "outputs": [
    {
     "data": {
      "text/plain": [
       "brand               0\n",
       "model               0\n",
       "base_color          0\n",
       "processor           0\n",
       "screen_size         0\n",
       "ROM                 0\n",
       "RAM                 0\n",
       "display_size        0\n",
       "num_rear_camera     0\n",
       "num_front_camera    0\n",
       "battery_capacity    0\n",
       "ratings             0\n",
       "num_of_ratings      0\n",
       "sales_price         0\n",
       "discount_percent    0\n",
       "sales               0\n",
       "dtype: int64"
      ]
     },
     "execution_count": 10,
     "metadata": {},
     "output_type": "execute_result"
    }
   ],
   "source": [
    "read.isnull().sum()"
   ]
  },
  {
   "cell_type": "code",
   "execution_count": 4,
   "metadata": {},
   "outputs": [
    {
     "data": {
      "text/plain": [
       "<bound method DataFrame.info of       brand           model base_color processor screen_size  ROM  RAM  \\\n",
       "0     Apple       iPhone SE      Black     Water  Very Small   64    2   \n",
       "1     Apple  iPhone 12 Mini        Red   Ceramic       Small   64    4   \n",
       "2     Apple       iPhone SE        Red     Water  Very Small   64    2   \n",
       "3     Apple       iPhone XR     Others       iOS      Medium   64    3   \n",
       "4     Apple       iPhone 12        Red   Ceramic      Medium  128    4   \n",
       "..      ...             ...        ...       ...         ...  ...  ...   \n",
       "425  Xiaomi     Redmi 6 Pro      Black  Qualcomm       Small   32    3   \n",
       "426  Xiaomi     Redmi 6 Pro        Red  Qualcomm       Small   64    4   \n",
       "427  Xiaomi      Mi 11 Lite     Others  Qualcomm       Large  128    6   \n",
       "428  Xiaomi   Redmi 8A Dual       Blue  Qualcomm      Medium   32    3   \n",
       "429  Xiaomi     Redmi 6 Pro       Blue  Qualcomm       Small   32    3   \n",
       "\n",
       "     display_size  num_rear_camera  num_front_camera  battery_capacity  \\\n",
       "0             4.7                1                 1              1800   \n",
       "1             5.4                2                 1              2815   \n",
       "2             4.7                1                 1              1800   \n",
       "3             6.1                1                 1              2942   \n",
       "4             6.1                2                 1              2815   \n",
       "..            ...              ...               ...               ...   \n",
       "425           5.8                2                 1              4000   \n",
       "426           5.8                2                 1              4000   \n",
       "427           6.5                3                 1              4250   \n",
       "428           6.2                2                 1              5000   \n",
       "429           5.8                2                 1              4000   \n",
       "\n",
       "     ratings  num_of_ratings  sales_price  discount_percent   sales  \n",
       "0        4.5           38645        32999              0.17  127.52  \n",
       "1        4.5             244        57149              0.04    1.39  \n",
       "2        4.5           38645        32999              0.17  127.52  \n",
       "3        4.6            5366        42999              0.10   23.07  \n",
       "4        4.6             745        69149              0.02    5.15  \n",
       "..       ...             ...          ...               ...     ...  \n",
       "425      4.3            1870         7999              0.30    1.50  \n",
       "426      4.3            1783         9699              0.28    1.73  \n",
       "427      4.2            1554        21999              0.12    3.42  \n",
       "428      4.2            8161         8299              0.07    6.77  \n",
       "429      4.3            1870         8190              0.36    1.53  \n",
       "\n",
       "[430 rows x 16 columns]>"
      ]
     },
     "execution_count": 4,
     "metadata": {},
     "output_type": "execute_result"
    }
   ],
   "source": [
    "read.info"
   ]
  },
  {
   "cell_type": "code",
   "execution_count": 5,
   "metadata": {},
   "outputs": [
    {
     "data": {
      "text/html": [
       "<div>\n",
       "<style scoped>\n",
       "    .dataframe tbody tr th:only-of-type {\n",
       "        vertical-align: middle;\n",
       "    }\n",
       "\n",
       "    .dataframe tbody tr th {\n",
       "        vertical-align: top;\n",
       "    }\n",
       "\n",
       "    .dataframe thead th {\n",
       "        text-align: right;\n",
       "    }\n",
       "</style>\n",
       "<table border=\"1\" class=\"dataframe\">\n",
       "  <thead>\n",
       "    <tr style=\"text-align: right;\">\n",
       "      <th></th>\n",
       "      <th>brand</th>\n",
       "      <th>model</th>\n",
       "      <th>base_color</th>\n",
       "      <th>processor</th>\n",
       "      <th>screen_size</th>\n",
       "      <th>ROM</th>\n",
       "      <th>RAM</th>\n",
       "      <th>display_size</th>\n",
       "      <th>num_rear_camera</th>\n",
       "      <th>num_front_camera</th>\n",
       "      <th>battery_capacity</th>\n",
       "      <th>ratings</th>\n",
       "      <th>num_of_ratings</th>\n",
       "      <th>sales_price</th>\n",
       "      <th>discount_percent</th>\n",
       "      <th>sales</th>\n",
       "    </tr>\n",
       "  </thead>\n",
       "  <tbody>\n",
       "    <tr>\n",
       "      <th>0</th>\n",
       "      <td>Apple</td>\n",
       "      <td>iPhone SE</td>\n",
       "      <td>Black</td>\n",
       "      <td>Water</td>\n",
       "      <td>Very Small</td>\n",
       "      <td>64</td>\n",
       "      <td>2</td>\n",
       "      <td>4.7</td>\n",
       "      <td>1</td>\n",
       "      <td>1</td>\n",
       "      <td>1800</td>\n",
       "      <td>4.5</td>\n",
       "      <td>38645</td>\n",
       "      <td>32999</td>\n",
       "      <td>0.17</td>\n",
       "      <td>127.52</td>\n",
       "    </tr>\n",
       "    <tr>\n",
       "      <th>1</th>\n",
       "      <td>Apple</td>\n",
       "      <td>iPhone 12 Mini</td>\n",
       "      <td>Red</td>\n",
       "      <td>Ceramic</td>\n",
       "      <td>Small</td>\n",
       "      <td>64</td>\n",
       "      <td>4</td>\n",
       "      <td>5.4</td>\n",
       "      <td>2</td>\n",
       "      <td>1</td>\n",
       "      <td>2815</td>\n",
       "      <td>4.5</td>\n",
       "      <td>244</td>\n",
       "      <td>57149</td>\n",
       "      <td>0.04</td>\n",
       "      <td>1.39</td>\n",
       "    </tr>\n",
       "    <tr>\n",
       "      <th>2</th>\n",
       "      <td>Apple</td>\n",
       "      <td>iPhone SE</td>\n",
       "      <td>Red</td>\n",
       "      <td>Water</td>\n",
       "      <td>Very Small</td>\n",
       "      <td>64</td>\n",
       "      <td>2</td>\n",
       "      <td>4.7</td>\n",
       "      <td>1</td>\n",
       "      <td>1</td>\n",
       "      <td>1800</td>\n",
       "      <td>4.5</td>\n",
       "      <td>38645</td>\n",
       "      <td>32999</td>\n",
       "      <td>0.17</td>\n",
       "      <td>127.52</td>\n",
       "    </tr>\n",
       "    <tr>\n",
       "      <th>3</th>\n",
       "      <td>Apple</td>\n",
       "      <td>iPhone XR</td>\n",
       "      <td>Others</td>\n",
       "      <td>iOS</td>\n",
       "      <td>Medium</td>\n",
       "      <td>64</td>\n",
       "      <td>3</td>\n",
       "      <td>6.1</td>\n",
       "      <td>1</td>\n",
       "      <td>1</td>\n",
       "      <td>2942</td>\n",
       "      <td>4.6</td>\n",
       "      <td>5366</td>\n",
       "      <td>42999</td>\n",
       "      <td>0.10</td>\n",
       "      <td>23.07</td>\n",
       "    </tr>\n",
       "    <tr>\n",
       "      <th>4</th>\n",
       "      <td>Apple</td>\n",
       "      <td>iPhone 12</td>\n",
       "      <td>Red</td>\n",
       "      <td>Ceramic</td>\n",
       "      <td>Medium</td>\n",
       "      <td>128</td>\n",
       "      <td>4</td>\n",
       "      <td>6.1</td>\n",
       "      <td>2</td>\n",
       "      <td>1</td>\n",
       "      <td>2815</td>\n",
       "      <td>4.6</td>\n",
       "      <td>745</td>\n",
       "      <td>69149</td>\n",
       "      <td>0.02</td>\n",
       "      <td>5.15</td>\n",
       "    </tr>\n",
       "  </tbody>\n",
       "</table>\n",
       "</div>"
      ],
      "text/plain": [
       "   brand           model base_color processor screen_size  ROM  RAM  \\\n",
       "0  Apple       iPhone SE      Black     Water  Very Small   64    2   \n",
       "1  Apple  iPhone 12 Mini        Red   Ceramic       Small   64    4   \n",
       "2  Apple       iPhone SE        Red     Water  Very Small   64    2   \n",
       "3  Apple       iPhone XR     Others       iOS      Medium   64    3   \n",
       "4  Apple       iPhone 12        Red   Ceramic      Medium  128    4   \n",
       "\n",
       "   display_size  num_rear_camera  num_front_camera  battery_capacity  ratings  \\\n",
       "0           4.7                1                 1              1800      4.5   \n",
       "1           5.4                2                 1              2815      4.5   \n",
       "2           4.7                1                 1              1800      4.5   \n",
       "3           6.1                1                 1              2942      4.6   \n",
       "4           6.1                2                 1              2815      4.6   \n",
       "\n",
       "   num_of_ratings  sales_price  discount_percent   sales  \n",
       "0           38645        32999              0.17  127.52  \n",
       "1             244        57149              0.04    1.39  \n",
       "2           38645        32999              0.17  127.52  \n",
       "3            5366        42999              0.10   23.07  \n",
       "4             745        69149              0.02    5.15  "
      ]
     },
     "execution_count": 5,
     "metadata": {},
     "output_type": "execute_result"
    }
   ],
   "source": [
    "read.head()"
   ]
  },
  {
   "cell_type": "code",
   "execution_count": 6,
   "metadata": {},
   "outputs": [
    {
     "data": {
      "text/html": [
       "<div>\n",
       "<style scoped>\n",
       "    .dataframe tbody tr th:only-of-type {\n",
       "        vertical-align: middle;\n",
       "    }\n",
       "\n",
       "    .dataframe tbody tr th {\n",
       "        vertical-align: top;\n",
       "    }\n",
       "\n",
       "    .dataframe thead th {\n",
       "        text-align: right;\n",
       "    }\n",
       "</style>\n",
       "<table border=\"1\" class=\"dataframe\">\n",
       "  <thead>\n",
       "    <tr style=\"text-align: right;\">\n",
       "      <th></th>\n",
       "      <th>brand</th>\n",
       "      <th>model</th>\n",
       "      <th>base_color</th>\n",
       "      <th>processor</th>\n",
       "      <th>screen_size</th>\n",
       "      <th>ROM</th>\n",
       "      <th>RAM</th>\n",
       "      <th>display_size</th>\n",
       "      <th>num_rear_camera</th>\n",
       "      <th>num_front_camera</th>\n",
       "      <th>battery_capacity</th>\n",
       "      <th>ratings</th>\n",
       "      <th>num_of_ratings</th>\n",
       "      <th>sales_price</th>\n",
       "      <th>discount_percent</th>\n",
       "      <th>sales</th>\n",
       "    </tr>\n",
       "  </thead>\n",
       "  <tbody>\n",
       "    <tr>\n",
       "      <th>427</th>\n",
       "      <td>Xiaomi</td>\n",
       "      <td>Mi 11 Lite</td>\n",
       "      <td>Others</td>\n",
       "      <td>Qualcomm</td>\n",
       "      <td>Large</td>\n",
       "      <td>128</td>\n",
       "      <td>6</td>\n",
       "      <td>6.5</td>\n",
       "      <td>3</td>\n",
       "      <td>1</td>\n",
       "      <td>4250</td>\n",
       "      <td>4.2</td>\n",
       "      <td>1554</td>\n",
       "      <td>21999</td>\n",
       "      <td>0.12</td>\n",
       "      <td>3.42</td>\n",
       "    </tr>\n",
       "    <tr>\n",
       "      <th>428</th>\n",
       "      <td>Xiaomi</td>\n",
       "      <td>Redmi 8A Dual</td>\n",
       "      <td>Blue</td>\n",
       "      <td>Qualcomm</td>\n",
       "      <td>Medium</td>\n",
       "      <td>32</td>\n",
       "      <td>3</td>\n",
       "      <td>6.2</td>\n",
       "      <td>2</td>\n",
       "      <td>1</td>\n",
       "      <td>5000</td>\n",
       "      <td>4.2</td>\n",
       "      <td>8161</td>\n",
       "      <td>8299</td>\n",
       "      <td>0.07</td>\n",
       "      <td>6.77</td>\n",
       "    </tr>\n",
       "    <tr>\n",
       "      <th>429</th>\n",
       "      <td>Xiaomi</td>\n",
       "      <td>Redmi 6 Pro</td>\n",
       "      <td>Blue</td>\n",
       "      <td>Qualcomm</td>\n",
       "      <td>Small</td>\n",
       "      <td>32</td>\n",
       "      <td>3</td>\n",
       "      <td>5.8</td>\n",
       "      <td>2</td>\n",
       "      <td>1</td>\n",
       "      <td>4000</td>\n",
       "      <td>4.3</td>\n",
       "      <td>1870</td>\n",
       "      <td>8190</td>\n",
       "      <td>0.36</td>\n",
       "      <td>1.53</td>\n",
       "    </tr>\n",
       "  </tbody>\n",
       "</table>\n",
       "</div>"
      ],
      "text/plain": [
       "      brand          model base_color processor screen_size  ROM  RAM  \\\n",
       "427  Xiaomi     Mi 11 Lite     Others  Qualcomm       Large  128    6   \n",
       "428  Xiaomi  Redmi 8A Dual       Blue  Qualcomm      Medium   32    3   \n",
       "429  Xiaomi    Redmi 6 Pro       Blue  Qualcomm       Small   32    3   \n",
       "\n",
       "     display_size  num_rear_camera  num_front_camera  battery_capacity  \\\n",
       "427           6.5                3                 1              4250   \n",
       "428           6.2                2                 1              5000   \n",
       "429           5.8                2                 1              4000   \n",
       "\n",
       "     ratings  num_of_ratings  sales_price  discount_percent  sales  \n",
       "427      4.2            1554        21999              0.12   3.42  \n",
       "428      4.2            8161         8299              0.07   6.77  \n",
       "429      4.3            1870         8190              0.36   1.53  "
      ]
     },
     "execution_count": 6,
     "metadata": {},
     "output_type": "execute_result"
    }
   ],
   "source": [
    "read.tail(3)"
   ]
  },
  {
   "cell_type": "markdown",
   "metadata": {},
   "source": [
    "Which Brand Has Maximum Sales-Price?"
   ]
  },
  {
   "cell_type": "code",
   "execution_count": 23,
   "metadata": {},
   "outputs": [
    {
     "data": {
      "text/plain": [
       "Apple    141\n",
       "Name: brand, dtype: int64"
      ]
     },
     "execution_count": 23,
     "metadata": {},
     "output_type": "execute_result"
    }
   ],
   "source": [
    "max_sales=read.brand[read.sales_price.value_counts()]\n",
    "max_sales.value_counts()"
   ]
  },
  {
   "cell_type": "code",
   "execution_count": 27,
   "metadata": {},
   "outputs": [
    {
     "data": {
      "image/jpeg": "[encoded data removed]",
      "text/plain": [
       "<IPython.core.display.Image object>"
      ]
     },
     "execution_count": 27,
     "metadata": {},
     "output_type": "execute_result"
    }
   ],
   "source": [
    "from IPython.display import Image\n",
    "Image(filename='Apple-Logo.jpg')"
   ]
  },
  {
   "cell_type": "code",
   "execution_count": 15,
   "metadata": {},
   "outputs": [
    {
     "data": {
      "image/png": "[encoded data removed]",
      "text/plain": [
       "<Figure size 720x432 with 1 Axes>"
      ]
     },
     "metadata": {
      "needs_background": "light"
     },
     "output_type": "display_data"
    }
   ],
   "source": [
    "plt.figure(figsize = (10,6))\n",
    "sns.boxplot(x = 'brand',y = 'sales_price',data = read)\n",
    "plt.title(\"Brand's Total Sales Price\")\n",
    "plt.show()"
   ]
  },
  {
   "cell_type": "markdown",
   "metadata": {},
   "source": []
  },
  {
   "cell_type": "markdown",
   "metadata": {},
   "source": [
    "Which Brand Has maximum number of ratings?"
   ]
  },
  {
   "cell_type": "code",
   "execution_count": 25,
   "metadata": {},
   "outputs": [
    {
     "data": {
      "text/plain": [
       "Apple    175\n",
       "Name: brand, dtype: int64"
      ]
     },
     "execution_count": 25,
     "metadata": {},
     "output_type": "execute_result"
    }
   ],
   "source": [
    "new_ratings=read.brand[read.num_of_ratings.value_counts()]\n",
    "new_ratings.value_counts()"
   ]
  },
  {
   "cell_type": "code",
   "execution_count": 24,
   "metadata": {},
   "outputs": [
    {
     "data": {
      "image/png": "[encoded data removed]",
      "text/plain": [
       "<Figure size 720x432 with 1 Axes>"
      ]
     },
     "metadata": {
      "needs_background": "light"
     },
     "output_type": "display_data"
    }
   ],
   "source": [
    "#count plots\n",
    "plt.figure(figsize = (10,6))\n",
    "sns.countplot(read['brand'], palette = 'Set1')\n",
    "plt.title(\"Brand\")\n",
    "plt.show()"
   ]
  },
  {
   "cell_type": "code",
   "execution_count": 18,
   "metadata": {},
   "outputs": [
    {
     "data": {
      "image/png": "[encoded data removed]",
      "text/plain": [
       "<Figure size 720x432 with 1 Axes>"
      ]
     },
     "metadata": {
      "needs_background": "light"
     },
     "output_type": "display_data"
    }
   ],
   "source": [
    "#base color counts\n",
    "plt.figure(figsize = (10,6))\n",
    "sns.countplot(read['base_color'], palette = 'Set2')\n",
    "plt.title(\"Brand\")\n",
    "plt.show()"
   ]
  },
  {
   "cell_type": "code",
   "execution_count": 28,
   "metadata": {},
   "outputs": [
    {
     "data": {
      "text/html": [
       "<div>\n",
       "<style scoped>\n",
       "    .dataframe tbody tr th:only-of-type {\n",
       "        vertical-align: middle;\n",
       "    }\n",
       "\n",
       "    .dataframe tbody tr th {\n",
       "        vertical-align: top;\n",
       "    }\n",
       "\n",
       "    .dataframe thead th {\n",
       "        text-align: right;\n",
       "    }\n",
       "</style>\n",
       "<table border=\"1\" class=\"dataframe\">\n",
       "  <thead>\n",
       "    <tr style=\"text-align: right;\">\n",
       "      <th></th>\n",
       "      <th>brand</th>\n",
       "      <th>base_color</th>\n",
       "      <th>battery_capacity</th>\n",
       "      <th>Count</th>\n",
       "    </tr>\n",
       "  </thead>\n",
       "  <tbody>\n",
       "    <tr>\n",
       "      <th>0</th>\n",
       "      <td>Apple</td>\n",
       "      <td>Black</td>\n",
       "      <td>1800</td>\n",
       "      <td>2</td>\n",
       "    </tr>\n",
       "    <tr>\n",
       "      <th>1</th>\n",
       "      <td>Apple</td>\n",
       "      <td>Black</td>\n",
       "      <td>2815</td>\n",
       "      <td>6</td>\n",
       "    </tr>\n",
       "    <tr>\n",
       "      <th>2</th>\n",
       "      <td>Apple</td>\n",
       "      <td>Black</td>\n",
       "      <td>2942</td>\n",
       "      <td>4</td>\n",
       "    </tr>\n",
       "    <tr>\n",
       "      <th>3</th>\n",
       "      <td>Apple</td>\n",
       "      <td>Blue</td>\n",
       "      <td>2815</td>\n",
       "      <td>5</td>\n",
       "    </tr>\n",
       "    <tr>\n",
       "      <th>4</th>\n",
       "      <td>Apple</td>\n",
       "      <td>Blue</td>\n",
       "      <td>2942</td>\n",
       "      <td>3</td>\n",
       "    </tr>\n",
       "    <tr>\n",
       "      <th>...</th>\n",
       "      <td>...</td>\n",
       "      <td>...</td>\n",
       "      <td>...</td>\n",
       "      <td>...</td>\n",
       "    </tr>\n",
       "    <tr>\n",
       "      <th>131</th>\n",
       "      <td>Xiaomi</td>\n",
       "      <td>White</td>\n",
       "      <td>4000</td>\n",
       "      <td>3</td>\n",
       "    </tr>\n",
       "    <tr>\n",
       "      <th>132</th>\n",
       "      <td>Xiaomi</td>\n",
       "      <td>White</td>\n",
       "      <td>4030</td>\n",
       "      <td>1</td>\n",
       "    </tr>\n",
       "    <tr>\n",
       "      <th>133</th>\n",
       "      <td>Xiaomi</td>\n",
       "      <td>White</td>\n",
       "      <td>4520</td>\n",
       "      <td>1</td>\n",
       "    </tr>\n",
       "    <tr>\n",
       "      <th>134</th>\n",
       "      <td>Xiaomi</td>\n",
       "      <td>White</td>\n",
       "      <td>5000</td>\n",
       "      <td>1</td>\n",
       "    </tr>\n",
       "    <tr>\n",
       "      <th>135</th>\n",
       "      <td>Xiaomi</td>\n",
       "      <td>White</td>\n",
       "      <td>5020</td>\n",
       "      <td>1</td>\n",
       "    </tr>\n",
       "  </tbody>\n",
       "</table>\n",
       "<p>136 rows × 4 columns</p>\n",
       "</div>"
      ],
      "text/plain": [
       "      brand base_color  battery_capacity  Count\n",
       "0     Apple      Black              1800      2\n",
       "1     Apple      Black              2815      6\n",
       "2     Apple      Black              2942      4\n",
       "3     Apple       Blue              2815      5\n",
       "4     Apple       Blue              2942      3\n",
       "..      ...        ...               ...    ...\n",
       "131  Xiaomi      White              4000      3\n",
       "132  Xiaomi      White              4030      1\n",
       "133  Xiaomi      White              4520      1\n",
       "134  Xiaomi      White              5000      1\n",
       "135  Xiaomi      White              5020      1\n",
       "\n",
       "[136 rows x 4 columns]"
      ]
     },
     "execution_count": 28,
     "metadata": {},
     "output_type": "execute_result"
    }
   ],
   "source": [
    "my_brand = read.groupby(['brand', 'base_color','battery_capacity']).size().reset_index(name = 'Count')\n",
    "my_brand"
   ]
  },
  {
   "cell_type": "code",
   "execution_count": 29,
   "metadata": {},
   "outputs": [
    {
     "data": {
      "image/png": "[encoded data removed]",
      "text/plain": [
       "<Figure size 1008x432 with 1 Axes>"
      ]
     },
     "metadata": {
      "needs_background": "light"
     },
     "output_type": "display_data"
    }
   ],
   "source": [
    "plt.figure(figsize=(14,6))\n",
    "sns.barplot(x='brand',y='Count',data=my_brand,hue='base_color',palette = 'Set1')\n",
    "plt.title('Brand-Color')\n",
    "plt.legend(bbox_to_anchor = (1.04,1), borderaxespad = 0)\n",
    "plt.show()"
   ]
  },
  {
   "cell_type": "code",
   "execution_count": 42,
   "metadata": {},
   "outputs": [
    {
     "name": "stdout",
     "output_type": "stream",
     "text": [
      "      brand             model base_color  RAM  Count\n",
      "0     Apple         iPhone 12      Black    4      3\n",
      "1     Apple         iPhone 12       Blue    4      3\n",
      "2     Apple         iPhone 12      Green    4      3\n",
      "3     Apple         iPhone 12     Purple    4      2\n",
      "4     Apple         iPhone 12        Red    4      3\n",
      "..      ...               ...        ...  ...    ...\n",
      "353  Xiaomi  Redmi Note 9 Pro      White    4      1\n",
      "354  Xiaomi          Redmi Y2       Gold    3      1\n",
      "355  Xiaomi          Redmi Y3      Black    4      1\n",
      "356  Xiaomi          Redmi Y3        Red    3      1\n",
      "357  Xiaomi          Redmi Y3        Red    4      1\n",
      "\n",
      "[358 rows x 5 columns]\n"
     ]
    }
   ],
   "source": [
    "brand_df = read.groupby(['brand','model', 'base_color','RAM']).size().reset_index(name = 'Count')\n",
    "print(brand_df)"
   ]
  },
  {
   "cell_type": "code",
   "execution_count": 9,
   "metadata": {},
   "outputs": [
    {
     "data": {
      "text/plain": [
       "<matplotlib.axes._subplots.AxesSubplot at 0x1b974ac93a0>"
      ]
     },
     "execution_count": 9,
     "metadata": {},
     "output_type": "execute_result"
    },
    {
     "data": {
      "image/png": "[encoded data removed]",
      "text/plain": [
       "<Figure size 1080x360 with 1 Axes>"
      ]
     },
     "metadata": {
      "needs_background": "light"
     },
     "output_type": "display_data"
    }
   ],
   "source": [
    "x=read[\"brand\"]\n",
    "y=read[\"ratings\"]\n",
    "plt.figure(figsize=(15,5))\n",
    "plt.xticks(rotation=60)\n",
    "plt.xlabel(\"Brands\",fontsize=14)\n",
    "plt.ylabel(\"Total_Ratings\",fontsize=14)\n",
    "sns.barplot(x,y)"
   ]
  },
  {
   "cell_type": "code",
   "execution_count": null,
   "metadata": {},
   "outputs": [],
   "source": []
  }
 ],
 "metadata": {
  "kernelspec": {
   "display_name": "Python 3",
   "language": "python",
   "name": "python3"
  },
  "language_info": {
   "codemirror_mode": {
    "name": "ipython",
    "version": 3
   },
   "file_extension": ".py",
   "mimetype": "text/x-python",
   "name": "python",
   "nbconvert_exporter": "python",
   "pygments_lexer": "ipython3",
   "version": "3.8.3"
  }
 },
 "nbformat": 4,
 "nbformat_minor": 4
}
